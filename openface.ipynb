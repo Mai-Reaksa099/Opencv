{
 "cells": [
  {
   "cell_type": "code",
   "execution_count": 5,
   "id": "e4fe7e68",
   "metadata": {},
   "outputs": [],
   "source": [
    "#import cv2 as cv\n",
    "import numpy as np\n",
    "# from IPython.utils import frame\n",
    "#from chardet import detect"
   ]
  },
  {
   "cell_type": "code",
   "execution_count": null,
   "id": "fd83d1f1",
   "metadata": {
    "pycharm": {
     "is_executing": true
    }
   },
   "outputs": [],
   "source": [
    "# img = cv.imread('im/img-p004.jpg')\n",
    "# open_face = cv.CascadeClassifier('haarcascade_frontalface_default.xml')\n",
    "# open_eye = cv.CascadeClassifier('haarcascade_eye.xml')\n",
    "# cvt_img = cv.cvtColor(img, cv.COLOR_RGB2BGR)\n",
    "# scale_img = open_face.detectMultiScale(cvt_img, 1.1, 4)\n",
    "# for (x, y, h, w) in scale_img:\n",
    "#     cv.rectangle(cvt_img, (x, y), (x+h, y+w), (255, 0, 0), 2)\n",
    "# cv.imshow('me', cvt_img)\n",
    "# cv.waitKey(0)\n"
   ]
  },
  {
   "cell_type": "code",
   "execution_count": 3,
   "id": "fc90dccd",
   "metadata": {},
   "outputs": [],
   "source": [
    "\n",
    "# open_face = cv.CascadeClassifier('haarcascade_frontalface_default.xml')\n",
    "# open_eye = cv.CascadeClassifier('haarcascade_eye.xml')\n",
    "# def detection (gray, frame):\n",
    "#     face = open_face.detectMultiScale(gray, 1.3, 3)\n",
    "#     for (x, y, h, w) in face:\n",
    "#         cv.rectangle(frame, (x, y,), (x+w, y+h), (255,0, 0), 2)\n",
    "#         re_gray = gray[y:y+h, x:x+w]\n",
    "#         re_color = frame[y:y+h, x:x+w]\n",
    "#         eye = open_eye.detectMultiScale(re_gray, 1.1, 3)\n",
    "#         for (ex, ey, eh, ew) in eye:\n",
    "#             cv.rectangle(re_color, (ex, ey), (ex+ew, ey+eh), (255, 0, 0), 2)\n",
    "#     return frame\n",
    "\n",
    "# video_capture = cv.VideoCapture(0)\n",
    "# while True:\n",
    "#     _, frame = video_capture.read()\n",
    "#     gray = cv.cvtColor(frame, cv.COLOR_BGR2GRAY)\n",
    "#     canvas = detection(gray, frame)\n",
    "#     cv.imshow('img', canvas)\n",
    "#     if cv.waitKey(1) & 0xff == ord('q'):\n",
    "#         break;\n",
    "# video_capture.release()\n",
    "# cv.destroyAllWindows()"
   ]
  },
  {
   "cell_type": "code",
   "execution_count": 4,
   "id": "f8f9921b",
   "metadata": {},
   "outputs": [],
   "source": [
    "\n",
    "# cap = cv.VideoCapture(0)\n",
    "# if not cap.isOpened():\n",
    "#     print(\"Cannot open camera\")\n",
    "#     exit()\n",
    "# while True:\n",
    "#     # Capture frame-by-frame\n",
    "#     ret, frame = cap.read()\n",
    "#     # if frame is read correctly ret is True\n",
    "#     if not ret:\n",
    "#         print(\"Can't receive frame (stream end?). Exiting ...\")\n",
    "#         break\n",
    "#     # Our operations on the frame come here\n",
    "#     gray = cv.cvtColor(frame, cv.COLOR_BGR2GRAY)\n",
    "#     # Display the resulting frame\n",
    "#     cv.imshow('frame', gray)\n",
    "#     if cv.waitKey(1) == ord('q'):\n",
    "#         break\n",
    "# # When everything done, release the capture\n",
    "# cap.release()\n",
    "# cv.destroyAllWindows()"
   ]
  },
  {
   "cell_type": "code",
   "execution_count": null,
   "id": "6cfa7c57",
   "metadata": {},
   "outputs": [],
   "source": []
  }
 ],
 "metadata": {
  "kernelspec": {
   "display_name": "Python 3",
   "language": "python",
   "name": "python3"
  },
  "language_info": {
   "codemirror_mode": {
    "name": "ipython",
    "version": 3
   },
   "file_extension": ".py",
   "mimetype": "text/x-python",
   "name": "python",
   "nbconvert_exporter": "python",
   "pygments_lexer": "ipython3",
   "version": "3.10.6 (main, Aug 10 2022, 11:40:04) [GCC 11.3.0]"
  },
  "vscode": {
   "interpreter": {
    "hash": "916dbcbb3f70747c44a77c7bcd40155683ae19c65e1c03b4aa3499c5328201f1"
   }
  }
 },
 "nbformat": 4,
 "nbformat_minor": 5
}
